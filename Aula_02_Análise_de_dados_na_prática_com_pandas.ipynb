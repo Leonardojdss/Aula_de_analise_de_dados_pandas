{
  "nbformat": 4,
  "nbformat_minor": 0,
  "metadata": {
    "colab": {
      "provenance": [],
      "authorship_tag": "ABX9TyMc3pkV1zH/43VNsi/ZWH3F",
      "include_colab_link": true
    },
    "kernelspec": {
      "name": "python3",
      "display_name": "Python 3"
    },
    "language_info": {
      "name": "python"
    }
  },
  "cells": [
    {
      "cell_type": "markdown",
      "metadata": {
        "id": "view-in-github",
        "colab_type": "text"
      },
      "source": [
        "<a href=\"https://colab.research.google.com/github/Leonardojdss/Aula_de_analise_de_dados_pandas/blob/main/Aula_02_An%C3%A1lise_de_dados_na_pr%C3%A1tica_com_pandas.ipynb\" target=\"_parent\"><img src=\"https://colab.research.google.com/assets/colab-badge.svg\" alt=\"Open In Colab\"/></a>"
      ]
    },
    {
      "cell_type": "markdown",
      "source": [],
      "metadata": {
        "id": "7Yp7qGx88fu9"
      }
    },
    {
      "cell_type": "markdown",
      "source": [
        "Análise de dados com pandas"
      ],
      "metadata": {
        "id": "cL6icNhu9dLe"
      }
    },
    {
      "cell_type": "markdown",
      "source": [
        "# Nova seção"
      ],
      "metadata": {
        "id": "-grpWWp8d4D8"
      }
    },
    {
      "cell_type": "code",
      "source": [
        "import pandas as pd"
      ],
      "metadata": {
        "id": "aWmSWKUz8cKf"
      },
      "execution_count": 2,
      "outputs": []
    },
    {
      "cell_type": "code",
      "execution_count": 8,
      "metadata": {
        "id": "PIY_Mfhu7kUK"
      },
      "outputs": [],
      "source": [
        "Precos_gasolina_df = pd.read_excel (\"ca-2021-02.xlsx\")"
      ]
    },
    {
      "cell_type": "code",
      "source": [
        "  #print exibir o dataframe\n",
        "  \n",
        "  print (Precos_gasolina_df)"
      ],
      "metadata": {
        "id": "aTBuGk3a-6aX"
      },
      "execution_count": null,
      "outputs": []
    },
    {
      "cell_type": "code",
      "source": [
        "#usar display para visualizar melhor com colunas,as organizado e melhor\n",
        "\n",
        "display (Precos_gasolina_df)"
      ],
      "metadata": {
        "id": "LVoPlHs4B_m9"
      },
      "execution_count": null,
      "outputs": []
    },
    {
      "cell_type": "code",
      "source": [
        "#visualizando apenas as 23 primeiras linhas com dispplay  \n",
        "\n",
        "display (Precos_gasolina_df.head(23))"
      ],
      "metadata": {
        "id": "vpCSEJL_CMVj"
      },
      "execution_count": null,
      "outputs": []
    },
    {
      "cell_type": "code",
      "source": [
        "#visualizando numeros de colunas e linhas do arquivo\n",
        "\n",
        "print(Precos_gasolina_df.shape)"
      ],
      "metadata": {
        "id": "wpWanmY8D7La"
      },
      "execution_count": null,
      "outputs": []
    },
    {
      "cell_type": "code",
      "source": [
        "#visualizando alguns principais cálculos que são realizados automaticamente\n",
        "\n",
        "display(Precos_gasolina_df.describe())"
      ],
      "metadata": {
        "id": "ywfu5vYxEEnZ"
      },
      "execution_count": null,
      "outputs": []
    },
    {
      "cell_type": "code",
      "source": [
        "  #quais são as colunas e que tipo de cada uma tem\n",
        "  \n",
        "  print(Precos_gasolina_df.info())"
      ],
      "metadata": {
        "id": "knlUEnGXKUA6"
      },
      "execution_count": null,
      "outputs": []
    },
    {
      "cell_type": "code",
      "source": [
        "#Visualizar apenas uma coluna, decido qual coluna ver\n",
        "\n",
        "revendas = Precos_gasolina_df['Revenda']\n",
        "display(revendas)"
      ],
      "metadata": {
        "id": "cUUPqCvTFGPo"
      },
      "execution_count": null,
      "outputs": []
    },
    {
      "cell_type": "code",
      "source": [
        "#Visualizar duas ou mais colunas, decido quais coluna ver (deve ter correspondencia exata)\n",
        "\n",
        "view_produtos = Precos_gasolina_df[['Revenda', 'Municipio', 'Produto', 'Valor de Venda']]\n",
        "display(view_produtos.head(10))"
      ],
      "metadata": {
        "id": "w2G1hK8xGhp4"
      },
      "execution_count": null,
      "outputs": []
    },
    {
      "cell_type": "code",
      "source": [
        "#Método para localizar uma linha(usando indice, a primeiro linha é zero)\n",
        "#Exemplo procurando a linha 4\n",
        "\n",
        "display(Precos_gasolina_df.loc[3])"
      ],
      "metadata": {
        "id": "GIdpf0deHarJ"
      },
      "execution_count": null,
      "outputs": []
    },
    {
      "cell_type": "code",
      "source": [
        "#Método para localizar um intervalor de linha(usando indice, a primeiro linha é zero)\n",
        "#exemplo procurando o intervalo 10:43\n",
        "\n",
        "display(Precos_gasolina_df.loc[10:43])"
      ],
      "metadata": {
        "id": "u_tfIb75IVkJ"
      },
      "execution_count": null,
      "outputs": []
    },
    {
      "cell_type": "code",
      "source": [
        "#localizar linhas que corresponde a uma condição definida\n",
        "#Localizar gasolina mais cara do brasil\n",
        "\n",
        "vendas_gasolina_df = Precos_gasolina_df.loc[Precos_gasolina_df['Produto'] == 'GASOLINA']\n",
        "display (vendas_gasolina_df)\n",
        "\n",
        "display(vendas_gasolina_df[['Valor de Venda', 'Revenda', 'Municipio', 'Estado - Sigla']].max())"
      ],
      "metadata": {
        "colab": {
          "base_uri": "https://localhost:8080/",
          "height": 1000
        },
        "id": "ig-wq0gdIrZ5",
        "outputId": "bdbcd8f1-eba5-44ef-ef05-2db43c23a765"
      },
      "execution_count": 75,
      "outputs": [
        {
          "output_type": "display_data",
          "data": {
            "text/plain": [
              "       Regiao - Sigla Estado - Sigla              Municipio  \\\n",
              "0                  NE             AL              ARAPIRACA   \n",
              "5                  NE             AL        DELMIRO GOUVEIA   \n",
              "10                 NE             AL        DELMIRO GOUVEIA   \n",
              "14                 NE             AL        DELMIRO GOUVEIA   \n",
              "19                  N             AM            ITACOATIARA   \n",
              "...               ...            ...                    ...   \n",
              "168392             SE             SP                  BAURU   \n",
              "168394             SE             MG              ITUIUTABA   \n",
              "168399             SE             RJ  CAMPOS DOS GOYTACAZES   \n",
              "168403             NE             BA                 JEQUIE   \n",
              "168405             SE             MG              ITUIUTABA   \n",
              "\n",
              "                                                  Revenda  \\\n",
              "0                                    POSTO ARAPIRACA LTDA   \n",
              "5                          AUTO POSTO FREITAS & MAIA LTDA   \n",
              "10                               AUTO POSTO DA PEDRA LTDA   \n",
              "14                  COMERCIO DE COMBUSTIVEIS NENZITA LTDA   \n",
              "19                         MARCOS ANTONIO DA SILVA CABRAL   \n",
              "...                                                   ...   \n",
              "168392                           AUTO POSTO KM BAURU LTDA   \n",
              "168394      COOPERCITRUS COOPERATIVA DE PRODUTORES RURAIS   \n",
              "168399  VICMAR COMERCIO DE COMBUSTIVEIS E LUBRIFICANTE...   \n",
              "168403         COMERCIAL DE COMBUSTIVEL CACHOEIRINHA LTDA   \n",
              "168405                  ABC DISTRIBUICAO DE PETROLEO LTDA   \n",
              "\n",
              "            CNPJ da Revenda                                 Nome da Rua  \\\n",
              "0        12.451.076/0004-65                              RODOVIA AL 220   \n",
              "5        12.436.978/0001-80                        RUA FLORIANO PEIXOTO   \n",
              "10       05.518.639/0001-87                        RUA FLORIANO PEIXOTO   \n",
              "14       04.431.113/0001-00                             AVENIDA CAXANGA   \n",
              "19       03.019.535/0001-00                              AVENIDA PARQUE   \n",
              "...                     ...                                         ...   \n",
              "168392   30.550.652/0001-60                           RUA CAMPOS SALLES   \n",
              "168394   45.236.791/0107-40  AVENIDA GOVERNADOR JOSE DE MAGALHAES PINTO   \n",
              "168399   20.641.704/0001-50                      AVENIDA ALBERTO TORRES   \n",
              "168403   28.629.089/0001-79                   AVENIDA T LOT JD TROPICAL   \n",
              "168405   13.117.591/0006-38   AVENIDA PROFESSOR JOSE VIEIRA DE MENDONCA   \n",
              "\n",
              "       Numero Rua                                        Complemento  \\\n",
              "0             105                                              KM 68   \n",
              "5             247                                                NaN   \n",
              "10            281                                                NaN   \n",
              "14            126                                                NaN   \n",
              "19           1012                                                NaN   \n",
              "...           ...                                                ...   \n",
              "168392      22160                                                NaN   \n",
              "168394        131                                                NaN   \n",
              "168399        512  CONJ  512/520             ANEXO ESQUINA COM A ...   \n",
              "168403         53                                                NaN   \n",
              "168405       2415                                                NaN   \n",
              "\n",
              "                   Bairro        Cep   Produto Data da Coleta  Valor de Venda  \\\n",
              "0             CANAFISTULA  57302-605  GASOLINA     2021-11-01           6.799   \n",
              "5                  CENTRO  57480-000  GASOLINA     2021-11-01           7.198   \n",
              "10                 CENTRO  57480-000  GASOLINA     2021-11-01           7.197   \n",
              "14            PEDRA VELHA  57480-000  GASOLINA     2021-11-01           7.175   \n",
              "19                 CENTRO  69100-000  GASOLINA     2021-11-01           6.990   \n",
              "...                   ...        ...       ...            ...             ...   \n",
              "168392        VILA FALCAO  17050-000  GASOLINA     2021-12-31           6.199   \n",
              "168394       MARIA VILELA  38301-078  GASOLINA     2021-12-31           6.899   \n",
              "168399  PARQUE LEOPOLDINA  28051-287  GASOLINA     2021-12-31           7.090   \n",
              "168403           TROPICAL  45209-130  GASOLINA     2021-12-31           6.799   \n",
              "168405           ALVORADA  38307-113  GASOLINA     2021-12-31           6.580   \n",
              "\n",
              "        Valor de Compra Unidade de Medida       Bandeira  \n",
              "0                   NaN        R$ / litro  VIBRA ENERGIA  \n",
              "5                   NaN        R$ / litro  VIBRA ENERGIA  \n",
              "10                  NaN        R$ / litro         BRANCA  \n",
              "14                  NaN        R$ / litro         BRANCA  \n",
              "19                  NaN        R$ / litro         BRANCA  \n",
              "...                 ...               ...            ...  \n",
              "168392              NaN        R$ / litro         RAIZEN  \n",
              "168394              NaN        R$ / litro       IPIRANGA  \n",
              "168399              NaN        R$ / litro         BRANCA  \n",
              "168403              NaN        R$ / litro     PETROSERRA  \n",
              "168405              NaN        R$ / litro         BRANCA  \n",
              "\n",
              "[42209 rows x 16 columns]"
            ],
            "text/html": [
              "\n",
              "  <div id=\"df-47adabf1-cb07-457c-86f2-dc78c96ddb67\">\n",
              "    <div class=\"colab-df-container\">\n",
              "      <div>\n",
              "<style scoped>\n",
              "    .dataframe tbody tr th:only-of-type {\n",
              "        vertical-align: middle;\n",
              "    }\n",
              "\n",
              "    .dataframe tbody tr th {\n",
              "        vertical-align: top;\n",
              "    }\n",
              "\n",
              "    .dataframe thead th {\n",
              "        text-align: right;\n",
              "    }\n",
              "</style>\n",
              "<table border=\"1\" class=\"dataframe\">\n",
              "  <thead>\n",
              "    <tr style=\"text-align: right;\">\n",
              "      <th></th>\n",
              "      <th>Regiao - Sigla</th>\n",
              "      <th>Estado - Sigla</th>\n",
              "      <th>Municipio</th>\n",
              "      <th>Revenda</th>\n",
              "      <th>CNPJ da Revenda</th>\n",
              "      <th>Nome da Rua</th>\n",
              "      <th>Numero Rua</th>\n",
              "      <th>Complemento</th>\n",
              "      <th>Bairro</th>\n",
              "      <th>Cep</th>\n",
              "      <th>Produto</th>\n",
              "      <th>Data da Coleta</th>\n",
              "      <th>Valor de Venda</th>\n",
              "      <th>Valor de Compra</th>\n",
              "      <th>Unidade de Medida</th>\n",
              "      <th>Bandeira</th>\n",
              "    </tr>\n",
              "  </thead>\n",
              "  <tbody>\n",
              "    <tr>\n",
              "      <th>0</th>\n",
              "      <td>NE</td>\n",
              "      <td>AL</td>\n",
              "      <td>ARAPIRACA</td>\n",
              "      <td>POSTO ARAPIRACA LTDA</td>\n",
              "      <td>12.451.076/0004-65</td>\n",
              "      <td>RODOVIA AL 220</td>\n",
              "      <td>105</td>\n",
              "      <td>KM 68</td>\n",
              "      <td>CANAFISTULA</td>\n",
              "      <td>57302-605</td>\n",
              "      <td>GASOLINA</td>\n",
              "      <td>2021-11-01</td>\n",
              "      <td>6.799</td>\n",
              "      <td>NaN</td>\n",
              "      <td>R$ / litro</td>\n",
              "      <td>VIBRA ENERGIA</td>\n",
              "    </tr>\n",
              "    <tr>\n",
              "      <th>5</th>\n",
              "      <td>NE</td>\n",
              "      <td>AL</td>\n",
              "      <td>DELMIRO GOUVEIA</td>\n",
              "      <td>AUTO POSTO FREITAS &amp; MAIA LTDA</td>\n",
              "      <td>12.436.978/0001-80</td>\n",
              "      <td>RUA FLORIANO PEIXOTO</td>\n",
              "      <td>247</td>\n",
              "      <td>NaN</td>\n",
              "      <td>CENTRO</td>\n",
              "      <td>57480-000</td>\n",
              "      <td>GASOLINA</td>\n",
              "      <td>2021-11-01</td>\n",
              "      <td>7.198</td>\n",
              "      <td>NaN</td>\n",
              "      <td>R$ / litro</td>\n",
              "      <td>VIBRA ENERGIA</td>\n",
              "    </tr>\n",
              "    <tr>\n",
              "      <th>10</th>\n",
              "      <td>NE</td>\n",
              "      <td>AL</td>\n",
              "      <td>DELMIRO GOUVEIA</td>\n",
              "      <td>AUTO POSTO DA PEDRA LTDA</td>\n",
              "      <td>05.518.639/0001-87</td>\n",
              "      <td>RUA FLORIANO PEIXOTO</td>\n",
              "      <td>281</td>\n",
              "      <td>NaN</td>\n",
              "      <td>CENTRO</td>\n",
              "      <td>57480-000</td>\n",
              "      <td>GASOLINA</td>\n",
              "      <td>2021-11-01</td>\n",
              "      <td>7.197</td>\n",
              "      <td>NaN</td>\n",
              "      <td>R$ / litro</td>\n",
              "      <td>BRANCA</td>\n",
              "    </tr>\n",
              "    <tr>\n",
              "      <th>14</th>\n",
              "      <td>NE</td>\n",
              "      <td>AL</td>\n",
              "      <td>DELMIRO GOUVEIA</td>\n",
              "      <td>COMERCIO DE COMBUSTIVEIS NENZITA LTDA</td>\n",
              "      <td>04.431.113/0001-00</td>\n",
              "      <td>AVENIDA CAXANGA</td>\n",
              "      <td>126</td>\n",
              "      <td>NaN</td>\n",
              "      <td>PEDRA VELHA</td>\n",
              "      <td>57480-000</td>\n",
              "      <td>GASOLINA</td>\n",
              "      <td>2021-11-01</td>\n",
              "      <td>7.175</td>\n",
              "      <td>NaN</td>\n",
              "      <td>R$ / litro</td>\n",
              "      <td>BRANCA</td>\n",
              "    </tr>\n",
              "    <tr>\n",
              "      <th>19</th>\n",
              "      <td>N</td>\n",
              "      <td>AM</td>\n",
              "      <td>ITACOATIARA</td>\n",
              "      <td>MARCOS ANTONIO DA SILVA CABRAL</td>\n",
              "      <td>03.019.535/0001-00</td>\n",
              "      <td>AVENIDA PARQUE</td>\n",
              "      <td>1012</td>\n",
              "      <td>NaN</td>\n",
              "      <td>CENTRO</td>\n",
              "      <td>69100-000</td>\n",
              "      <td>GASOLINA</td>\n",
              "      <td>2021-11-01</td>\n",
              "      <td>6.990</td>\n",
              "      <td>NaN</td>\n",
              "      <td>R$ / litro</td>\n",
              "      <td>BRANCA</td>\n",
              "    </tr>\n",
              "    <tr>\n",
              "      <th>...</th>\n",
              "      <td>...</td>\n",
              "      <td>...</td>\n",
              "      <td>...</td>\n",
              "      <td>...</td>\n",
              "      <td>...</td>\n",
              "      <td>...</td>\n",
              "      <td>...</td>\n",
              "      <td>...</td>\n",
              "      <td>...</td>\n",
              "      <td>...</td>\n",
              "      <td>...</td>\n",
              "      <td>...</td>\n",
              "      <td>...</td>\n",
              "      <td>...</td>\n",
              "      <td>...</td>\n",
              "      <td>...</td>\n",
              "    </tr>\n",
              "    <tr>\n",
              "      <th>168392</th>\n",
              "      <td>SE</td>\n",
              "      <td>SP</td>\n",
              "      <td>BAURU</td>\n",
              "      <td>AUTO POSTO KM BAURU LTDA</td>\n",
              "      <td>30.550.652/0001-60</td>\n",
              "      <td>RUA CAMPOS SALLES</td>\n",
              "      <td>22160</td>\n",
              "      <td>NaN</td>\n",
              "      <td>VILA FALCAO</td>\n",
              "      <td>17050-000</td>\n",
              "      <td>GASOLINA</td>\n",
              "      <td>2021-12-31</td>\n",
              "      <td>6.199</td>\n",
              "      <td>NaN</td>\n",
              "      <td>R$ / litro</td>\n",
              "      <td>RAIZEN</td>\n",
              "    </tr>\n",
              "    <tr>\n",
              "      <th>168394</th>\n",
              "      <td>SE</td>\n",
              "      <td>MG</td>\n",
              "      <td>ITUIUTABA</td>\n",
              "      <td>COOPERCITRUS COOPERATIVA DE PRODUTORES RURAIS</td>\n",
              "      <td>45.236.791/0107-40</td>\n",
              "      <td>AVENIDA GOVERNADOR JOSE DE MAGALHAES PINTO</td>\n",
              "      <td>131</td>\n",
              "      <td>NaN</td>\n",
              "      <td>MARIA VILELA</td>\n",
              "      <td>38301-078</td>\n",
              "      <td>GASOLINA</td>\n",
              "      <td>2021-12-31</td>\n",
              "      <td>6.899</td>\n",
              "      <td>NaN</td>\n",
              "      <td>R$ / litro</td>\n",
              "      <td>IPIRANGA</td>\n",
              "    </tr>\n",
              "    <tr>\n",
              "      <th>168399</th>\n",
              "      <td>SE</td>\n",
              "      <td>RJ</td>\n",
              "      <td>CAMPOS DOS GOYTACAZES</td>\n",
              "      <td>VICMAR COMERCIO DE COMBUSTIVEIS E LUBRIFICANTE...</td>\n",
              "      <td>20.641.704/0001-50</td>\n",
              "      <td>AVENIDA ALBERTO TORRES</td>\n",
              "      <td>512</td>\n",
              "      <td>CONJ  512/520             ANEXO ESQUINA COM A ...</td>\n",
              "      <td>PARQUE LEOPOLDINA</td>\n",
              "      <td>28051-287</td>\n",
              "      <td>GASOLINA</td>\n",
              "      <td>2021-12-31</td>\n",
              "      <td>7.090</td>\n",
              "      <td>NaN</td>\n",
              "      <td>R$ / litro</td>\n",
              "      <td>BRANCA</td>\n",
              "    </tr>\n",
              "    <tr>\n",
              "      <th>168403</th>\n",
              "      <td>NE</td>\n",
              "      <td>BA</td>\n",
              "      <td>JEQUIE</td>\n",
              "      <td>COMERCIAL DE COMBUSTIVEL CACHOEIRINHA LTDA</td>\n",
              "      <td>28.629.089/0001-79</td>\n",
              "      <td>AVENIDA T LOT JD TROPICAL</td>\n",
              "      <td>53</td>\n",
              "      <td>NaN</td>\n",
              "      <td>TROPICAL</td>\n",
              "      <td>45209-130</td>\n",
              "      <td>GASOLINA</td>\n",
              "      <td>2021-12-31</td>\n",
              "      <td>6.799</td>\n",
              "      <td>NaN</td>\n",
              "      <td>R$ / litro</td>\n",
              "      <td>PETROSERRA</td>\n",
              "    </tr>\n",
              "    <tr>\n",
              "      <th>168405</th>\n",
              "      <td>SE</td>\n",
              "      <td>MG</td>\n",
              "      <td>ITUIUTABA</td>\n",
              "      <td>ABC DISTRIBUICAO DE PETROLEO LTDA</td>\n",
              "      <td>13.117.591/0006-38</td>\n",
              "      <td>AVENIDA PROFESSOR JOSE VIEIRA DE MENDONCA</td>\n",
              "      <td>2415</td>\n",
              "      <td>NaN</td>\n",
              "      <td>ALVORADA</td>\n",
              "      <td>38307-113</td>\n",
              "      <td>GASOLINA</td>\n",
              "      <td>2021-12-31</td>\n",
              "      <td>6.580</td>\n",
              "      <td>NaN</td>\n",
              "      <td>R$ / litro</td>\n",
              "      <td>BRANCA</td>\n",
              "    </tr>\n",
              "  </tbody>\n",
              "</table>\n",
              "<p>42209 rows × 16 columns</p>\n",
              "</div>\n",
              "      <button class=\"colab-df-convert\" onclick=\"convertToInteractive('df-47adabf1-cb07-457c-86f2-dc78c96ddb67')\"\n",
              "              title=\"Convert this dataframe to an interactive table.\"\n",
              "              style=\"display:none;\">\n",
              "        \n",
              "  <svg xmlns=\"http://www.w3.org/2000/svg\" height=\"24px\"viewBox=\"0 0 24 24\"\n",
              "       width=\"24px\">\n",
              "    <path d=\"M0 0h24v24H0V0z\" fill=\"none\"/>\n",
              "    <path d=\"M18.56 5.44l.94 2.06.94-2.06 2.06-.94-2.06-.94-.94-2.06-.94 2.06-2.06.94zm-11 1L8.5 8.5l.94-2.06 2.06-.94-2.06-.94L8.5 2.5l-.94 2.06-2.06.94zm10 10l.94 2.06.94-2.06 2.06-.94-2.06-.94-.94-2.06-.94 2.06-2.06.94z\"/><path d=\"M17.41 7.96l-1.37-1.37c-.4-.4-.92-.59-1.43-.59-.52 0-1.04.2-1.43.59L10.3 9.45l-7.72 7.72c-.78.78-.78 2.05 0 2.83L4 21.41c.39.39.9.59 1.41.59.51 0 1.02-.2 1.41-.59l7.78-7.78 2.81-2.81c.8-.78.8-2.07 0-2.86zM5.41 20L4 18.59l7.72-7.72 1.47 1.35L5.41 20z\"/>\n",
              "  </svg>\n",
              "      </button>\n",
              "      \n",
              "  <style>\n",
              "    .colab-df-container {\n",
              "      display:flex;\n",
              "      flex-wrap:wrap;\n",
              "      gap: 12px;\n",
              "    }\n",
              "\n",
              "    .colab-df-convert {\n",
              "      background-color: #E8F0FE;\n",
              "      border: none;\n",
              "      border-radius: 50%;\n",
              "      cursor: pointer;\n",
              "      display: none;\n",
              "      fill: #1967D2;\n",
              "      height: 32px;\n",
              "      padding: 0 0 0 0;\n",
              "      width: 32px;\n",
              "    }\n",
              "\n",
              "    .colab-df-convert:hover {\n",
              "      background-color: #E2EBFA;\n",
              "      box-shadow: 0px 1px 2px rgba(60, 64, 67, 0.3), 0px 1px 3px 1px rgba(60, 64, 67, 0.15);\n",
              "      fill: #174EA6;\n",
              "    }\n",
              "\n",
              "    [theme=dark] .colab-df-convert {\n",
              "      background-color: #3B4455;\n",
              "      fill: #D2E3FC;\n",
              "    }\n",
              "\n",
              "    [theme=dark] .colab-df-convert:hover {\n",
              "      background-color: #434B5C;\n",
              "      box-shadow: 0px 1px 3px 1px rgba(0, 0, 0, 0.15);\n",
              "      filter: drop-shadow(0px 1px 2px rgba(0, 0, 0, 0.3));\n",
              "      fill: #FFFFFF;\n",
              "    }\n",
              "  </style>\n",
              "\n",
              "      <script>\n",
              "        const buttonEl =\n",
              "          document.querySelector('#df-47adabf1-cb07-457c-86f2-dc78c96ddb67 button.colab-df-convert');\n",
              "        buttonEl.style.display =\n",
              "          google.colab.kernel.accessAllowed ? 'block' : 'none';\n",
              "\n",
              "        async function convertToInteractive(key) {\n",
              "          const element = document.querySelector('#df-47adabf1-cb07-457c-86f2-dc78c96ddb67');\n",
              "          const dataTable =\n",
              "            await google.colab.kernel.invokeFunction('convertToInteractive',\n",
              "                                                     [key], {});\n",
              "          if (!dataTable) return;\n",
              "\n",
              "          const docLinkHtml = 'Like what you see? Visit the ' +\n",
              "            '<a target=\"_blank\" href=https://colab.research.google.com/notebooks/data_table.ipynb>data table notebook</a>'\n",
              "            + ' to learn more about interactive tables.';\n",
              "          element.innerHTML = '';\n",
              "          dataTable['output_type'] = 'display_data';\n",
              "          await google.colab.output.renderOutput(dataTable, element);\n",
              "          const docLink = document.createElement('div');\n",
              "          docLink.innerHTML = docLinkHtml;\n",
              "          element.appendChild(docLink);\n",
              "        }\n",
              "      </script>\n",
              "    </div>\n",
              "  </div>\n",
              "  "
            ]
          },
          "metadata": {}
        },
        {
          "output_type": "display_data",
          "data": {
            "text/plain": [
              "Valor de Venda                        7.999\n",
              "Revenda           ZV POSTO DE SERVIÇO LTDA.\n",
              "Municipio                           XANXERE\n",
              "Estado - Sigla                           TO\n",
              "dtype: object"
            ]
          },
          "metadata": {}
        }
      ]
    },
    {
      "cell_type": "code",
      "source": [
        "#localizar linhas que corresponde a mais de uma condição definida\n",
        "\n",
        "vendas_gasolina_df = Precos_gasolina_df.loc[(Precos_gasolina_df['Produto'] == 'GASOLINA') & (Precos_gasolina_df['Municipio'] == 'SAO PAULO')]\n",
        "display (vendas_gasolina_df)"
      ],
      "metadata": {
        "id": "67HimvptTV30"
      },
      "execution_count": null,
      "outputs": []
    },
    {
      "cell_type": "code",
      "source": [
        "#localizar linhas que corresponde a mais de uma condição definida, e decido quais colunas quero mostrar\n",
        "\n",
        "vendas_gasolina_df = Precos_gasolina_df.loc[(Precos_gasolina_df['Produto'] == 'GASOLINA') & (Precos_gasolina_df['Municipio'] == 'SAO PAULO'), ['Municipio', 'Revenda', 'Data da Coleta', 'Produto', 'Valor de Venda']]\n",
        "display (vendas_gasolina_df)"
      ],
      "metadata": {
        "id": "FI_kiwymUfHr"
      },
      "execution_count": null,
      "outputs": []
    },
    {
      "cell_type": "code",
      "source": [
        "#Criar uma nova coluna calculada a partir de alguma operação matematica\n",
        "\n",
        "vendas_gasolina_df ['Imposto'] = Precos_gasolina_df ['Valor de Venda'] * 0.10\n",
        "\n",
        "display (vendas_gasolina_df)"
      ],
      "metadata": {
        "id": "8QDMocomYkn8"
      },
      "execution_count": null,
      "outputs": []
    },
    {
      "cell_type": "code",
      "source": [],
      "metadata": {
        "id": "mtynRig_ZhWU"
      },
      "execution_count": null,
      "outputs": []
    }
  ]
}