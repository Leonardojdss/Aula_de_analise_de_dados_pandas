{
  "nbformat": 4,
  "nbformat_minor": 0,
  "metadata": {
    "colab": {
      "provenance": [],
      "authorship_tag": "ABX9TyO4rDv6ZKaemH+P8ofC9Kqv",
      "include_colab_link": true
    },
    "kernelspec": {
      "name": "python3",
      "display_name": "Python 3"
    },
    "language_info": {
      "name": "python"
    }
  },
  "cells": [
    {
      "cell_type": "markdown",
      "metadata": {
        "id": "view-in-github",
        "colab_type": "text"
      },
      "source": [
        "<a href=\"https://colab.research.google.com/github/Leonardojdss/Aula_de_analise_de_dados_pandas/blob/main/Aula_01_An%C3%A1lise_de_dados_com_pandas.ipynb\" target=\"_parent\"><img src=\"https://colab.research.google.com/assets/colab-badge.svg\" alt=\"Open In Colab\"/></a>"
      ]
    },
    {
      "cell_type": "markdown",
      "source": [
        "Primeiro exemplo de pandas"
      ],
      "metadata": {
        "id": "yLAsPSSDDYin"
      }
    },
    {
      "cell_type": "markdown",
      "source": [
        "**primeiro exemplo de manipulação de dados usando python pandas**\n",
        "\n",
        "autor: Leonardo\n",
        "Data: 06/02/2023\n",
        "\n"
      ],
      "metadata": {
        "id": "jqtdNQfhUhFt"
      }
    },
    {
      "cell_type": "code",
      "source": [
        "#comando para instalar a biblioteca\n",
        "\n",
        "!pip install pandas"
      ],
      "metadata": {
        "id": "Ji-2pWFeV8-V"
      },
      "execution_count": null,
      "outputs": []
    },
    {
      "cell_type": "code",
      "source": [
        "# importando biblioteca pandas no python\n",
        "\n",
        "import pandas as pd\n",
        "\n"
      ],
      "metadata": {
        "id": "ZghjcazrJF3f"
      },
      "execution_count": null,
      "outputs": []
    },
    {
      "cell_type": "code",
      "source": [
        "Precos_gasolina_df = pd.read_csv (\"/content/precos-semestrais-ca-2022-01.csv\")"
      ],
      "metadata": {
        "id": "NN_eOZ6BX4K-"
      },
      "execution_count": null,
      "outputs": []
    },
    {
      "cell_type": "code",
      "source": [
        "print (Precos_gasolina_df)"
      ],
      "metadata": {
        "id": "XnfImPDtceYb"
      },
      "execution_count": null,
      "outputs": []
    }
  ]
}